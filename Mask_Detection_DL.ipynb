{
 "cells": [
  {
   "cell_type": "code",
   "execution_count": 1,
   "metadata": {},
   "outputs": [],
   "source": [
    "import cv2\n",
    "import os\n",
    "import numpy as np"
   ]
  },
  {
   "cell_type": "code",
   "execution_count": 2,
   "metadata": {},
   "outputs": [],
   "source": [
    "def name_map(x):\n",
    "    if x=='with_mask':\n",
    "        return 0\n",
    "    if x=='without_mask':\n",
    "        return 1"
   ]
  },
  {
   "cell_type": "code",
   "execution_count": 3,
   "metadata": {},
   "outputs": [],
   "source": [
    "def get_name(x):\n",
    "    if x==0:\n",
    "        return 'with_mask'\n",
    "    if x==1:\n",
    "        return 'without_mask'"
   ]
  },
  {
   "cell_type": "code",
   "execution_count": 4,
   "metadata": {},
   "outputs": [],
   "source": [
    "def detect_face (img):\n",
    "    gray=cv2.cvtColor(img,cv2.COLOR_BGR2GRAY)\n",
    "    face_cascade=cv2.CascadeClassifier(r'C:\\Users\\Nanthu s\\Downloads\\computer vision\\open cv\\Mask_Detection_project\\haarcascade_frontalface_default.xml')\n",
    "    faces=face_cascade.detectMultiScale(gray,scaleFactor=1.1,minNeighbors=4)\n",
    "\n",
    "    if (len(faces)==0):\n",
    "        return None,None\n",
    "\n",
    "    x,y,w,h=faces[0]\n",
    "    return gray[y:y+w,x:x+h],faces[0]"
   ]
  },
  {
   "cell_type": "code",
   "execution_count": 5,
   "metadata": {},
   "outputs": [],
   "source": [
    "def prepare_training_data(data_folder_path):\n",
    "\n",
    "    dirs=os.listdir(data_folder_path)\n",
    "\n",
    "    faces=[]\n",
    "    labels=[]\n",
    "\n",
    "    for dir_name in dirs:\n",
    "\n",
    "        label=dir_name\n",
    "\n",
    "        subject_dir_path=data_folder_path + '/' + dir_name\n",
    "        subject_img_names=os.listdir(subject_dir_path)\n",
    "\n",
    "        for img_name in subject_img_names:\n",
    "            img_path=subject_dir_path+'/'+img_name\n",
    "\n",
    "            image=cv2.imread(img_path)\n",
    "\n",
    "            cv2.imshow('training on image..',image)\n",
    "            cv2.waitKey(1000)\n",
    "\n",
    "            #detect face\n",
    "            face,rect=detect_face(image)\n",
    "\n",
    "            if face is not None:\n",
    "\n",
    "                faces.append(face)\n",
    "                labels.append(name_map(label))\n",
    "\n",
    "    cv2.destroyAllWindows()\n",
    "    cv2.waitKey(1)\n",
    "    \n",
    "    return faces,labels"
   ]
  },
  {
   "cell_type": "code",
   "execution_count": 6,
   "metadata": {},
   "outputs": [
    {
     "name": "stdout",
     "output_type": "stream",
     "text": [
      "preparing data..\n"
     ]
    }
   ],
   "source": [
    "print('preparing data..')\n",
    "faces,labels=prepare_training_data(r'C:\\Users\\Nanthu s\\Downloads\\computer vision\\open cv\\Mask_Detection_project\\Mask Detection')\n",
    "print('data prepared...')\n"
   ]
  },
  {
   "cell_type": "code",
   "execution_count": 7,
   "metadata": {},
   "outputs": [
    {
     "name": "stdout",
     "output_type": "stream",
     "text": [
      "total face : 73\n"
     ]
    }
   ],
   "source": [
    "print('total face :',len(faces))"
   ]
  },
  {
   "cell_type": "code",
   "execution_count": 8,
   "metadata": {},
   "outputs": [
    {
     "name": "stdout",
     "output_type": "stream",
     "text": [
      "total labels : 73\n"
     ]
    }
   ],
   "source": [
    "print('total labels :',len(labels))"
   ]
  },
  {
   "cell_type": "code",
   "execution_count": 9,
   "metadata": {},
   "outputs": [],
   "source": [
    "face_recognizer=cv2.face.LBPHFaceRecognizer_create()"
   ]
  },
  {
   "cell_type": "code",
   "execution_count": 10,
   "metadata": {},
   "outputs": [],
   "source": [
    "face_recognizer.train(faces,np.array(labels))"
   ]
  },
  {
   "cell_type": "code",
   "execution_count": 11,
   "metadata": {},
   "outputs": [],
   "source": [
    "def draw_rectangle(img,rect):\n",
    "    (x,y,w,h)=rect\n",
    "    cv2.rectangle(img,(x,y),(x+w,y+h),(0,255,0),2)"
   ]
  },
  {
   "cell_type": "code",
   "execution_count": 12,
   "metadata": {},
   "outputs": [],
   "source": [
    "def draw_text(img,text,x,y):\n",
    "    cv2.putText(img,text,(x,y),cv2.FONT_HERSHEY_COMPLEX,1,(255,0,0),2)"
   ]
  },
  {
   "cell_type": "code",
   "execution_count": 13,
   "metadata": {},
   "outputs": [],
   "source": [
    "def predict(test_img):\n",
    "    img=test_img.copy()\n",
    "\n",
    "    face,rect=detect_face(img)\n",
    "\n",
    "    label=face_recognizer.predict(face)\n",
    "    label_text=get_name(label[0])\n",
    "\n",
    "    if name_map(label_text) == (label==0):\n",
    "        print('entry allowed')\n",
    "    else:\n",
    "        print('entry not allowed')\n",
    "    \n",
    "        \n",
    "    draw_rectangle(img,rect)\n",
    "    draw_text(img,label_text,rect[0],rect[1])\n",
    "\n",
    "    return img\n"
   ]
  },
  {
   "cell_type": "code",
   "execution_count": 15,
   "metadata": {},
   "outputs": [],
   "source": [
    "test_img1=cv2.imread(r'C:\\Users\\Nanthu s\\Downloads\\Mask_Detection_project\\Data_mask\\with_mask\\3-with-mask.jpg')\n"
   ]
  },
  {
   "cell_type": "code",
   "execution_count": 16,
   "metadata": {},
   "outputs": [
    {
     "name": "stdout",
     "output_type": "stream",
     "text": [
      "entry allowed\n"
     ]
    }
   ],
   "source": [
    "predicted=predict(test_img1)\n",
    "cv2.imshow('predicted img',predicted)\n",
    "cv2.waitKey()\n",
    "cv2.destroyAllWindows()"
   ]
  }
 ],
 "metadata": {
  "kernelspec": {
   "display_name": "Python 3",
   "language": "python",
   "name": "python3"
  },
  "language_info": {
   "codemirror_mode": {
    "name": "ipython",
    "version": 3
   },
   "file_extension": ".py",
   "mimetype": "text/x-python",
   "name": "python",
   "nbconvert_exporter": "python",
   "pygments_lexer": "ipython3",
   "version": "3.10.6 (tags/v3.10.6:9c7b4bd, Aug  1 2022, 21:53:49) [MSC v.1932 64 bit (AMD64)]"
  },
  "orig_nbformat": 4,
  "vscode": {
   "interpreter": {
    "hash": "0f3ce0ff8dc94c3c6e88a816211064e64e1a782f501df804a9f944fb9084ad75"
   }
  }
 },
 "nbformat": 4,
 "nbformat_minor": 2
}
